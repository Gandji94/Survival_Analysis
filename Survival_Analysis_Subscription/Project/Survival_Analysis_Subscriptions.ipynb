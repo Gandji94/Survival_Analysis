{
 "cells":[
  {
   "cell_type":"code",
   "source":[
    "import pandas as pd\n",
    "import numpy as np\n",
    "import matplotlib.pyplot as plt\n",
    "import seaborn as sns"
   ],
   "execution_count":1,
   "outputs":[
    
   ],
   "metadata":{
    "datalore":{
     "node_id":"W5Gzuf6fPPqsozUd87qaGd",
     "type":"CODE",
     "hide_input_from_viewers":true,
     "hide_output_from_viewers":true
    }
   }
  },
  {
   "cell_type":"code",
   "source":[
    "df=pd.read_csv('\/data\/notebook_files\/Subscription Cohort Analysis Data.csv')\n",
    "df.head()"
   ],
   "execution_count":2,
   "outputs":[
    {
     "data":{
      "text\/html":[
       "<div>\n",
       "<style scoped>\n",
       "    .dataframe tbody tr th:only-of-type {\n",
       "        vertical-align: middle;\n",
       "    }\n",
       "\n",
       "    .dataframe tbody tr th {\n",
       "        vertical-align: top;\n",
       "    }\n",
       "\n",
       "    .dataframe thead th {\n",
       "        text-align: right;\n",
       "    }\n",
       "<\/style>\n",
       "<table border=\"1\" class=\"dataframe\">\n",
       "  <thead>\n",
       "    <tr style=\"text-align: right;\">\n",
       "      <th><\/th>\n",
       "      <th>customer_id<\/th>\n",
       "      <th>created_date<\/th>\n",
       "      <th>canceled_date<\/th>\n",
       "      <th>subscription_cost<\/th>\n",
       "      <th>subscription_interval<\/th>\n",
       "      <th>was_subscription_paid<\/th>\n",
       "    <\/tr>\n",
       "  <\/thead>\n",
       "  <tbody>\n",
       "    <tr>\n",
       "      <th>0<\/th>\n",
       "      <td>154536156<\/td>\n",
       "      <td>2022-09-01<\/td>\n",
       "      <td>NaN<\/td>\n",
       "      <td>39<\/td>\n",
       "      <td>month<\/td>\n",
       "      <td>Yes<\/td>\n",
       "    <\/tr>\n",
       "    <tr>\n",
       "      <th>1<\/th>\n",
       "      <td>149713408<\/td>\n",
       "      <td>2022-09-01<\/td>\n",
       "      <td>2022-09-02<\/td>\n",
       "      <td>39<\/td>\n",
       "      <td>month<\/td>\n",
       "      <td>No<\/td>\n",
       "    <\/tr>\n",
       "    <tr>\n",
       "      <th>2<\/th>\n",
       "      <td>153756284<\/td>\n",
       "      <td>2022-09-01<\/td>\n",
       "      <td>2022-09-02<\/td>\n",
       "      <td>39<\/td>\n",
       "      <td>month<\/td>\n",
       "      <td>No<\/td>\n",
       "    <\/tr>\n",
       "    <tr>\n",
       "      <th>3<\/th>\n",
       "      <td>121253113<\/td>\n",
       "      <td>2022-09-01<\/td>\n",
       "      <td>2022-09-23<\/td>\n",
       "      <td>39<\/td>\n",
       "      <td>month<\/td>\n",
       "      <td>Yes<\/td>\n",
       "    <\/tr>\n",
       "    <tr>\n",
       "      <th>4<\/th>\n",
       "      <td>154467210<\/td>\n",
       "      <td>2022-09-01<\/td>\n",
       "      <td>2023-06-29<\/td>\n",
       "      <td>39<\/td>\n",
       "      <td>month<\/td>\n",
       "      <td>Yes<\/td>\n",
       "    <\/tr>\n",
       "  <\/tbody>\n",
       "<\/table>\n",
       "<\/div>"
      ]
     },
     "metadata":{
      
     },
     "output_type":"display_data"
    }
   ],
   "metadata":{
    "datalore":{
     "node_id":"oDQBBjeUVZd1cAItz1nBFx",
     "type":"CODE",
     "hide_input_from_viewers":true,
     "hide_output_from_viewers":true
    }
   }
  },
  {
   "cell_type":"markdown",
   "source":[
    "## Data Cleaning"
   ],
   "attachments":{
    
   },
   "metadata":{
    "datalore":{
     "node_id":"dUdEHe5BzRujzW30wytBXI",
     "type":"MD",
     "hide_input_from_viewers":true,
     "hide_output_from_viewers":true
    }
   }
  },
  {
   "cell_type":"code",
   "source":[
    "#as we can see, we have a maximum of 3069 data entries => here, we can see that the column \"canceled_date\" contains NaN values\n",
    "df.info()"
   ],
   "execution_count":3,
   "outputs":[
    {
     "name":"stdout",
     "text":[
      "<class 'pandas.core.frame.DataFrame'>\n",
      "RangeIndex: 3069 entries, 0 to 3068\n",
      "Data columns (total 6 columns):\n",
      " #   Column                 Non-Null Count  Dtype \n",
      "---  ------                 --------------  ----- \n",
      " 0   customer_id            3069 non-null   int64 \n",
      " 1   created_date           3069 non-null   object\n",
      " 2   canceled_date          2004 non-null   object\n",
      " 3   subscription_cost      3069 non-null   int64 \n",
      " 4   subscription_interval  3069 non-null   object\n",
      " 5   was_subscription_paid  3069 non-null   object\n",
      "dtypes: int64(2), object(4)\n",
      "memory usage: 144.0+ KB\n"
     ],
     "output_type":"stream"
    }
   ],
   "metadata":{
    "datalore":{
     "node_id":"wk957XB9Kr6Fn5T1FljhSY",
     "type":"CODE",
     "hide_input_from_viewers":true,
     "hide_output_from_viewers":true
    }
   }
  },
  {
   "cell_type":"code",
   "source":[
    "print((df.isnull().sum()\/len(df))*100)\n",
    "print('\\n')\n",
    "print('\\n')\n",
    "print(df.isnull().sum())\n",
    "#as we can see we have we have only one column with null-values => 34.70%; affected rows"
   ],
   "execution_count":4,
   "outputs":[
    {
     "name":"stdout",
     "text":[
      "customer_id               0.000000\n",
      "created_date              0.000000\n",
      "canceled_date            34.701857\n",
      "subscription_cost         0.000000\n",
      "subscription_interval     0.000000\n",
      "was_subscription_paid     0.000000\n",
      "dtype: float64\n",
      "\n",
      "\n",
      "\n",
      "\n",
      "customer_id                 0\n",
      "created_date                0\n",
      "canceled_date            1065\n",
      "subscription_cost           0\n",
      "subscription_interval       0\n",
      "was_subscription_paid       0\n",
      "dtype: int64\n"
     ],
     "output_type":"stream"
    }
   ],
   "metadata":{
    "datalore":{
     "node_id":"uIecEOSH5wDgHfrLNpLjt8",
     "type":"CODE",
     "hide_input_from_viewers":true,
     "hide_output_from_viewers":true
    }
   }
  },
  {
   "cell_type":"code",
   "source":[
    "df[df['canceled_date'].isna()].head()\n",
    "#we will need the NaN values for the survival analysis, we will tackle that problem in the feature enginee"
   ],
   "execution_count":5,
   "outputs":[
    {
     "data":{
      "text\/html":[
       "<div>\n",
       "<style scoped>\n",
       "    .dataframe tbody tr th:only-of-type {\n",
       "        vertical-align: middle;\n",
       "    }\n",
       "\n",
       "    .dataframe tbody tr th {\n",
       "        vertical-align: top;\n",
       "    }\n",
       "\n",
       "    .dataframe thead th {\n",
       "        text-align: right;\n",
       "    }\n",
       "<\/style>\n",
       "<table border=\"1\" class=\"dataframe\">\n",
       "  <thead>\n",
       "    <tr style=\"text-align: right;\">\n",
       "      <th><\/th>\n",
       "      <th>customer_id<\/th>\n",
       "      <th>created_date<\/th>\n",
       "      <th>canceled_date<\/th>\n",
       "      <th>subscription_cost<\/th>\n",
       "      <th>subscription_interval<\/th>\n",
       "      <th>was_subscription_paid<\/th>\n",
       "    <\/tr>\n",
       "  <\/thead>\n",
       "  <tbody>\n",
       "    <tr>\n",
       "      <th>0<\/th>\n",
       "      <td>154536156<\/td>\n",
       "      <td>2022-09-01<\/td>\n",
       "      <td>NaN<\/td>\n",
       "      <td>39<\/td>\n",
       "      <td>month<\/td>\n",
       "      <td>Yes<\/td>\n",
       "    <\/tr>\n",
       "    <tr>\n",
       "      <th>12<\/th>\n",
       "      <td>152925600<\/td>\n",
       "      <td>2022-09-02<\/td>\n",
       "      <td>NaN<\/td>\n",
       "      <td>39<\/td>\n",
       "      <td>month<\/td>\n",
       "      <td>Yes<\/td>\n",
       "    <\/tr>\n",
       "    <tr>\n",
       "      <th>18<\/th>\n",
       "      <td>154131290<\/td>\n",
       "      <td>2022-09-03<\/td>\n",
       "      <td>NaN<\/td>\n",
       "      <td>39<\/td>\n",
       "      <td>month<\/td>\n",
       "      <td>Yes<\/td>\n",
       "    <\/tr>\n",
       "    <tr>\n",
       "      <th>19<\/th>\n",
       "      <td>154434009<\/td>\n",
       "      <td>2022-09-03<\/td>\n",
       "      <td>NaN<\/td>\n",
       "      <td>39<\/td>\n",
       "      <td>month<\/td>\n",
       "      <td>Yes<\/td>\n",
       "    <\/tr>\n",
       "    <tr>\n",
       "      <th>37<\/th>\n",
       "      <td>154225450<\/td>\n",
       "      <td>2022-09-05<\/td>\n",
       "      <td>NaN<\/td>\n",
       "      <td>39<\/td>\n",
       "      <td>month<\/td>\n",
       "      <td>Yes<\/td>\n",
       "    <\/tr>\n",
       "  <\/tbody>\n",
       "<\/table>\n",
       "<\/div>"
      ]
     },
     "metadata":{
      
     },
     "output_type":"display_data"
    }
   ],
   "metadata":{
    "datalore":{
     "node_id":"9senCUTsuxnWUZKOu7hmNV",
     "type":"CODE",
     "hide_input_from_viewers":true,
     "hide_output_from_viewers":true
    }
   }
  },
  {
   "cell_type":"markdown",
   "source":[
    "## Feature Engineering"
   ],
   "attachments":{
    
   },
   "metadata":{
    "datalore":{
     "node_id":"xtUrSDjBGQfDqXJJaUI8WS",
     "type":"MD",
     "hide_input_from_viewers":true,
     "hide_output_from_viewers":true
    }
   }
  },
  {
   "cell_type":"code",
   "source":[
    "df['canceled_date']=df['canceled_date'].fillna(df['created_date'])\n",
    "#the NaN values get replaced with the date of the subscription begin=> so we will get a zero when we create the column\n",
    "##which indicates that the subscription has not been cancelled yet\n",
    "df['created_date']=pd.to_datetime(df['created_date'])\n",
    "df['canceled_date']=pd.to_datetime(df['canceled_date'])\n",
    "df.info()"
   ],
   "execution_count":6,
   "outputs":[
    {
     "name":"stdout",
     "text":[
      "<class 'pandas.core.frame.DataFrame'>\n",
      "RangeIndex: 3069 entries, 0 to 3068\n",
      "Data columns (total 6 columns):\n",
      " #   Column                 Non-Null Count  Dtype         \n",
      "---  ------                 --------------  -----         \n",
      " 0   customer_id            3069 non-null   int64         \n",
      " 1   created_date           3069 non-null   datetime64[ns]\n",
      " 2   canceled_date          3069 non-null   datetime64[ns]\n",
      " 3   subscription_cost      3069 non-null   int64         \n",
      " 4   subscription_interval  3069 non-null   object        \n",
      " 5   was_subscription_paid  3069 non-null   object        \n",
      "dtypes: datetime64[ns](2), int64(2), object(2)\n",
      "memory usage: 144.0+ KB\n"
     ],
     "output_type":"stream"
    }
   ],
   "metadata":{
    "datalore":{
     "node_id":"lsovHdEUH2PHQshY1T9sku",
     "type":"CODE",
     "hide_input_from_viewers":true,
     "hide_output_from_viewers":true
    }
   }
  },
  {
   "cell_type":"code",
   "source":[
    "df['days_passed_since_cancellation']=(df['canceled_date']-df['created_date']).dt.days\n",
    "#1=> is cancelled; 0=> is active\n",
    "df['subscription_status']=np.where(df['days_passed_since_cancellation'] > 0,1,0)\n",
    "df.head()"
   ],
   "execution_count":7,
   "outputs":[
    {
     "data":{
      "text\/html":[
       "<div>\n",
       "<style scoped>\n",
       "    .dataframe tbody tr th:only-of-type {\n",
       "        vertical-align: middle;\n",
       "    }\n",
       "\n",
       "    .dataframe tbody tr th {\n",
       "        vertical-align: top;\n",
       "    }\n",
       "\n",
       "    .dataframe thead th {\n",
       "        text-align: right;\n",
       "    }\n",
       "<\/style>\n",
       "<table border=\"1\" class=\"dataframe\">\n",
       "  <thead>\n",
       "    <tr style=\"text-align: right;\">\n",
       "      <th><\/th>\n",
       "      <th>customer_id<\/th>\n",
       "      <th>created_date<\/th>\n",
       "      <th>canceled_date<\/th>\n",
       "      <th>subscription_cost<\/th>\n",
       "      <th>subscription_interval<\/th>\n",
       "      <th>was_subscription_paid<\/th>\n",
       "      <th>days_passed_since_cancellation<\/th>\n",
       "      <th>subscription_status<\/th>\n",
       "    <\/tr>\n",
       "  <\/thead>\n",
       "  <tbody>\n",
       "    <tr>\n",
       "      <th>0<\/th>\n",
       "      <td>154536156<\/td>\n",
       "      <td>2022-09-01<\/td>\n",
       "      <td>2022-09-01<\/td>\n",
       "      <td>39<\/td>\n",
       "      <td>month<\/td>\n",
       "      <td>Yes<\/td>\n",
       "      <td>0<\/td>\n",
       "      <td>0<\/td>\n",
       "    <\/tr>\n",
       "    <tr>\n",
       "      <th>1<\/th>\n",
       "      <td>149713408<\/td>\n",
       "      <td>2022-09-01<\/td>\n",
       "      <td>2022-09-02<\/td>\n",
       "      <td>39<\/td>\n",
       "      <td>month<\/td>\n",
       "      <td>No<\/td>\n",
       "      <td>1<\/td>\n",
       "      <td>1<\/td>\n",
       "    <\/tr>\n",
       "    <tr>\n",
       "      <th>2<\/th>\n",
       "      <td>153756284<\/td>\n",
       "      <td>2022-09-01<\/td>\n",
       "      <td>2022-09-02<\/td>\n",
       "      <td>39<\/td>\n",
       "      <td>month<\/td>\n",
       "      <td>No<\/td>\n",
       "      <td>1<\/td>\n",
       "      <td>1<\/td>\n",
       "    <\/tr>\n",
       "    <tr>\n",
       "      <th>3<\/th>\n",
       "      <td>121253113<\/td>\n",
       "      <td>2022-09-01<\/td>\n",
       "      <td>2022-09-23<\/td>\n",
       "      <td>39<\/td>\n",
       "      <td>month<\/td>\n",
       "      <td>Yes<\/td>\n",
       "      <td>22<\/td>\n",
       "      <td>1<\/td>\n",
       "    <\/tr>\n",
       "    <tr>\n",
       "      <th>4<\/th>\n",
       "      <td>154467210<\/td>\n",
       "      <td>2022-09-01<\/td>\n",
       "      <td>2023-06-29<\/td>\n",
       "      <td>39<\/td>\n",
       "      <td>month<\/td>\n",
       "      <td>Yes<\/td>\n",
       "      <td>301<\/td>\n",
       "      <td>1<\/td>\n",
       "    <\/tr>\n",
       "  <\/tbody>\n",
       "<\/table>\n",
       "<\/div>"
      ]
     },
     "metadata":{
      
     },
     "output_type":"display_data"
    }
   ],
   "metadata":{
    "datalore":{
     "node_id":"i3e3GPhXF6WEMgzeVWyBzI",
     "type":"CODE",
     "hide_input_from_viewers":true,
     "hide_output_from_viewers":true
    }
   }
  },
  {
   "cell_type":"markdown",
   "source":[
    "## Exploratory Analysis"
   ],
   "attachments":{
    
   },
   "metadata":{
    "datalore":{
     "node_id":"h6TApKtKC2csIYv5iwyCuk",
     "type":"MD",
     "hide_input_from_viewers":true,
     "hide_output_from_viewers":true
    }
   }
  },
  {
   "cell_type":"code",
   "source":[
    "plt.figure(figsize=(8,6))\n",
    "df.groupby('subscription_status')['customer_id'].count().plot(kind='bar', color=['green','red'])\n",
    "plt.title('Breakdown of Subscription Status',size=12,fontweight='bold')\n",
    "plt.text(df['subscription_status'].unique()[0],df.groupby('subscription_status')['customer_id'].count(),\n",
    "         '{}'.format(df.groupby('subscription_status')['customer_id'].count()))\n",
    "plt.xticks(rotation=0)\n",
    "plt.xlabel('subscription_status',size=12,fontweight='bold')\n",
    "plt.show()"
   ],
   "execution_count":8,
   "outputs":[
    {
     "data":{
      "text\/plain":[
       "<Figure size 576x432 with 1 Axes>"
      ]
     },
     "metadata":{
      
     },
     "output_type":"display_data"
    }
   ],
   "metadata":{
    "datalore":{
     "node_id":"KkXauTewWj54IjOcokW4ci",
     "type":"CODE",
     "hide_input_from_viewers":true,
     "hide_output_from_viewers":true
    }
   }
  },
  {
   "cell_type":"code",
   "source":[
    "plt.figure(figsize=(8,6))\n",
    "df.groupby('subscription_status')['customer_id'].count().plot(kind='bar', color=['green','red'])\n",
    "plt.title('Breakdown of Subscription Status',size=12,fontweight='bold')\n",
    "plt.xticks(rotation=0)\n",
    "plt.xlabel('subscription_status',size=12,fontweight='bold')\n",
    "#the data set contains more former customers (cancelled) than active customers"
   ],
   "execution_count":9,
   "outputs":[
    {
     "data":{
      "text\/plain":[
       "Text(0.5, 0, 'subscription_status')"
      ]
     },
     "metadata":{
      
     },
     "output_type":"display_data"
    },
    {
     "data":{
      "image\/png":"[encoded data removed]"
     },
     "metadata":{
      "image\/png":{
       
      }
     },
     "output_type":"display_data"
    }
   ],
   "metadata":{
    "datalore":{
     "node_id":"evBruFviANgDhrJUMlHhE4",
     "type":"CODE",
     "hide_input_from_viewers":true,
     "hide_output_from_viewers":true
    }
   }
  },
  {
   "cell_type":"code",
   "source":[
    "print('Different subscription types: {}'.format(df['subscription_interval'].unique()[0]))\n",
    "print('Different cost options: {}'.format(df['subscription_cost'].unique()[0]))\n",
    "#as we can see we do have only one price available for the subscriptions\n"
   ],
   "execution_count":10,
   "outputs":[
    {
     "name":"stdout",
     "text":[
      "Different subscription types: month\n",
      "Different cost options: 39\n"
     ],
     "output_type":"stream"
    }
   ],
   "metadata":{
    "datalore":{
     "node_id":"ipZxFgMyBYNvLprYrZq7gx",
     "type":"CODE",
     "hide_input_from_viewers":true,
     "hide_output_from_viewers":true
    }
   }
  },
  {
   "cell_type":"code",
   "source":[
    "#new customers\/subscriptions\n",
    "sub_dv=df.groupby(['created_date'])['customer_id'].count().reset_index()\n",
    "sub_dv=sub_dv.rename(columns={'created_date':'date','customer_id':'numb_new_customer'})\n",
    "\n",
    "#customers\/subscriptions lost\/cancelled\n",
    "sub_loss=df.groupby(['canceled_date'])['customer_id'].count().reset_index()\n",
    "sub_loss=sub_loss.rename(columns={'canceled_date':'date','customer_id':'numb_lost_customer'})\n",
    "\n",
    "#merging the two dataframes\n",
    "df_dev=pd.merge(sub_dv,sub_loss,how='left',on='date').fillna(0)\n",
    "df_dev['numb_lost_customer']=df_dev['numb_lost_customer'].astype('int')\n",
    "df_dev['development']=df_dev['numb_new_customer']-df_dev['numb_lost_customer']\n",
    "df_dev.set_index('date',inplace=True)\n",
    "\n",
    "#creating a linegraph based on timestamps and number of gained\/lost customers\n",
    "plt.figure(figsize=(10,8))\n",
    "df_dev['development'].plot()\n",
    "plt.axhline(0,ls='--',color='black')\n",
    "plt.axhline(df_dev['development'].min(),ls='--',color='red')\n",
    "plt.title('Development of Active\/Cancelled Customers',size=18,fontweight='bold')\n",
    "#we can see that the data is unliekly to be stationary and we can see a negative trend\n",
    "#around July 2023, the company had each month more negative subscriptions=> lost customers"
   ],
   "execution_count":25,
   "outputs":[
    {
     "data":{
      "text\/plain":[
       "Text(0.5, 1.0, 'Development of Active\/Cancelled Customers')"
      ]
     },
     "metadata":{
      
     },
     "output_type":"display_data"
    },
    {
     "data":{
      "image\/png":"[encoded data removed]"
     },
     "metadata":{
      "image\/png":{
       
      }
     },
     "output_type":"display_data"
    }
   ],
   "metadata":{
    "datalore":{
     "node_id":"upEieC4sFSP4yPoxUnpVaI",
     "type":"CODE",
     "hide_input_from_viewers":true,
     "hide_output_from_viewers":true
    }
   }
  },
  {
   "cell_type":"code",
   "source":[
    "#here, we check if the data set contains any duplicated values, and if that is the case, how many instances do we have\n",
    "print('Number of instances that are duplicated: {}'.format(len(df[df['customer_id'].duplicated()==True]['customer_id'])))\n",
    "df[df['customer_id'].duplicated()==True]['customer_id'].head()"
   ],
   "execution_count":12,
   "outputs":[
    {
     "name":"stdout",
     "text":[
      "Number of instances that are duplicated: 192\n"
     ],
     "output_type":"stream"
    },
    {
     "data":{
      "text\/html":[
       "<pre>62     154809306\n",
       "116    154904040\n",
       "170    136108848\n",
       "215    151154171\n",
       "471    157663870\n",
       "Name: customer_id, dtype: int64<\/pre>"
      ]
     },
     "metadata":{
      
     },
     "output_type":"display_data"
    }
   ],
   "metadata":{
    "datalore":{
     "node_id":"6bwKTrzgwsvhTaJyDDwmsZ",
     "type":"CODE",
     "hide_input_from_viewers":true,
     "hide_output_from_viewers":true
    }
   }
  },
  {
   "cell_type":"code",
   "source":[
    "returned_df_draft=df[(df['customer_id'].duplicated()==True)]\n",
    "max_date=returned_df_draft.groupby('customer_id')['created_date'].max()\n",
    "returning_df=pd.merge(returned_df_draft,max_date,how='left',on='customer_id').rename(columns={'created_date_y':'max_date',\n",
    "                                                                                     'created_date_x':'created_date'})\n",
    "dup_id=returned_df_draft['customer_id'].to_list()"
   ],
   "execution_count":13,
   "outputs":[
    
   ],
   "metadata":{
    "datalore":{
     "node_id":"nTgqZCKjiNBM0ruuBDznhf",
     "type":"CODE",
     "hide_input_from_viewers":true,
     "hide_output_from_viewers":true
    }
   }
  },
  {
   "cell_type":"code",
   "source":[
    "returned_df=df[(df['customer_id'].duplicated()==True)]\n",
    "dup_id=returned_df['customer_id'].to_list()\n",
    "return_df=df[df['customer_id'].isin(dup_id)].sort_values('customer_id', ascending=True)\n",
    "return_df.head()"
   ],
   "execution_count":14,
   "outputs":[
    {
     "data":{
      "text\/html":[
       "<div>\n",
       "<style scoped>\n",
       "    .dataframe tbody tr th:only-of-type {\n",
       "        vertical-align: middle;\n",
       "    }\n",
       "\n",
       "    .dataframe tbody tr th {\n",
       "        vertical-align: top;\n",
       "    }\n",
       "\n",
       "    .dataframe thead th {\n",
       "        text-align: right;\n",
       "    }\n",
       "<\/style>\n",
       "<table border=\"1\" class=\"dataframe\">\n",
       "  <thead>\n",
       "    <tr style=\"text-align: right;\">\n",
       "      <th><\/th>\n",
       "      <th>customer_id<\/th>\n",
       "      <th>created_date<\/th>\n",
       "      <th>canceled_date<\/th>\n",
       "      <th>subscription_cost<\/th>\n",
       "      <th>subscription_interval<\/th>\n",
       "      <th>was_subscription_paid<\/th>\n",
       "      <th>days_passed_since_cancellation<\/th>\n",
       "      <th>subscription_status<\/th>\n",
       "    <\/tr>\n",
       "  <\/thead>\n",
       "  <tbody>\n",
       "    <tr>\n",
       "      <th>703<\/th>\n",
       "      <td>116060198<\/td>\n",
       "      <td>2022-12-13<\/td>\n",
       "      <td>2023-03-20<\/td>\n",
       "      <td>39<\/td>\n",
       "      <td>month<\/td>\n",
       "      <td>Yes<\/td>\n",
       "      <td>97<\/td>\n",
       "      <td>1<\/td>\n",
       "    <\/tr>\n",
       "    <tr>\n",
       "      <th>1820<\/th>\n",
       "      <td>116060198<\/td>\n",
       "      <td>2023-04-24<\/td>\n",
       "      <td>2023-04-24<\/td>\n",
       "      <td>39<\/td>\n",
       "      <td>month<\/td>\n",
       "      <td>Yes<\/td>\n",
       "      <td>0<\/td>\n",
       "      <td>0<\/td>\n",
       "    <\/tr>\n",
       "    <tr>\n",
       "      <th>2052<\/th>\n",
       "      <td>119436804<\/td>\n",
       "      <td>2023-05-21<\/td>\n",
       "      <td>2023-05-21<\/td>\n",
       "      <td>39<\/td>\n",
       "      <td>month<\/td>\n",
       "      <td>Yes<\/td>\n",
       "      <td>0<\/td>\n",
       "      <td>0<\/td>\n",
       "    <\/tr>\n",
       "    <tr>\n",
       "      <th>23<\/th>\n",
       "      <td>119436804<\/td>\n",
       "      <td>2022-09-03<\/td>\n",
       "      <td>2023-04-10<\/td>\n",
       "      <td>39<\/td>\n",
       "      <td>month<\/td>\n",
       "      <td>Yes<\/td>\n",
       "      <td>219<\/td>\n",
       "      <td>1<\/td>\n",
       "    <\/tr>\n",
       "    <tr>\n",
       "      <th>503<\/th>\n",
       "      <td>120738319<\/td>\n",
       "      <td>2022-11-14<\/td>\n",
       "      <td>2023-04-03<\/td>\n",
       "      <td>39<\/td>\n",
       "      <td>month<\/td>\n",
       "      <td>Yes<\/td>\n",
       "      <td>140<\/td>\n",
       "      <td>1<\/td>\n",
       "    <\/tr>\n",
       "  <\/tbody>\n",
       "<\/table>\n",
       "<\/div>"
      ]
     },
     "metadata":{
      
     },
     "output_type":"display_data"
    }
   ],
   "metadata":{
    "datalore":{
     "node_id":"RxWhZZDwYgkVl8pjgjY7Ts",
     "type":"CODE",
     "hide_input_from_viewers":true,
     "hide_output_from_viewers":true
    }
   }
  },
  {
   "cell_type":"code",
   "source":[
    "#here, we get the difference in days between the first cancellation and second signing date\n",
    "min_can=return_df.groupby('customer_id')[['canceled_date']].min()\n",
    "max_cr=return_df.groupby('customer_id')[['created_date']].max()\n",
    "df_max_min=pd.merge(min_can,max_cr,on='customer_id',how='left').rename(columns={'canceled_date':'first_subscription_cancelation',\n",
    "                                                                                'created_date':'new_subscription_date'})\n",
    "df_max_min['days_to_new_subscription']=(df_max_min['new_subscription_date']-df_max_min['first_subscription_cancelation']).dt.days\n",
    "df_max_min=df_max_min.reset_index()\n",
    "df_max_min.head()"
   ],
   "execution_count":15,
   "outputs":[
    {
     "data":{
      "text\/html":[
       "<div>\n",
       "<style scoped>\n",
       "    .dataframe tbody tr th:only-of-type {\n",
       "        vertical-align: middle;\n",
       "    }\n",
       "\n",
       "    .dataframe tbody tr th {\n",
       "        vertical-align: top;\n",
       "    }\n",
       "\n",
       "    .dataframe thead th {\n",
       "        text-align: right;\n",
       "    }\n",
       "<\/style>\n",
       "<table border=\"1\" class=\"dataframe\">\n",
       "  <thead>\n",
       "    <tr style=\"text-align: right;\">\n",
       "      <th><\/th>\n",
       "      <th>customer_id<\/th>\n",
       "      <th>first_subscription_cancelation<\/th>\n",
       "      <th>new_subscription_date<\/th>\n",
       "      <th>days_to_new_subscription<\/th>\n",
       "    <\/tr>\n",
       "  <\/thead>\n",
       "  <tbody>\n",
       "    <tr>\n",
       "      <th>0<\/th>\n",
       "      <td>116060198<\/td>\n",
       "      <td>2023-03-20<\/td>\n",
       "      <td>2023-04-24<\/td>\n",
       "      <td>35<\/td>\n",
       "    <\/tr>\n",
       "    <tr>\n",
       "      <th>1<\/th>\n",
       "      <td>119436804<\/td>\n",
       "      <td>2023-04-10<\/td>\n",
       "      <td>2023-05-21<\/td>\n",
       "      <td>41<\/td>\n",
       "    <\/tr>\n",
       "    <tr>\n",
       "      <th>2<\/th>\n",
       "      <td>120738319<\/td>\n",
       "      <td>2023-04-03<\/td>\n",
       "      <td>2023-05-18<\/td>\n",
       "      <td>45<\/td>\n",
       "    <\/tr>\n",
       "    <tr>\n",
       "      <th>3<\/th>\n",
       "      <td>121253113<\/td>\n",
       "      <td>2022-09-23<\/td>\n",
       "      <td>2023-08-14<\/td>\n",
       "      <td>325<\/td>\n",
       "    <\/tr>\n",
       "    <tr>\n",
       "      <th>4<\/th>\n",
       "      <td>121571816<\/td>\n",
       "      <td>2023-03-26<\/td>\n",
       "      <td>2023-04-08<\/td>\n",
       "      <td>13<\/td>\n",
       "    <\/tr>\n",
       "  <\/tbody>\n",
       "<\/table>\n",
       "<\/div>"
      ]
     },
     "metadata":{
      
     },
     "output_type":"display_data"
    }
   ],
   "metadata":{
    "datalore":{
     "node_id":"FUQ35cHf49bKyuxp2L3Nmm",
     "type":"CODE",
     "hide_input_from_viewers":true,
     "hide_output_from_viewers":true
    }
   }
  },
  {
   "cell_type":"code",
   "source":[
    "plt.figure(figsize=(10,6))\n",
    "sns.kdeplot(df_max_min['days_to_new_subscription'])\n",
    "plt.title('Distribution of Days to New Subscription',size=16, fontweight='bold')\n",
    "print('Most Frequent Days of Returning','\\n','\\n',df_max_min.reset_index().groupby('days_to_new_subscription')['customer_id'].count(\n",
    ").sort_values(ascending=False).head(10))\n",
    "to"
   ],
   "execution_count":16,
   "outputs":[
    {
     "name":"stdout",
     "text":[
      "Most Frequent Days of Returning \n",
      " \n",
      " days_to_new_subscription\n",
      "1     10\n",
      "4      7\n",
      "2      6\n",
      "5      5\n",
      "0      5\n",
      "18     4\n",
      "15     4\n",
      "6      4\n",
      "63     4\n",
      "45     3\n",
      "Name: customer_id, dtype: int64\n"
     ],
     "output_type":"stream"
    },
    {
     "data":{
      "image\/png":"[encoded data removed]"
     },
     "metadata":{
      "image\/png":{
       
      }
     },
     "output_type":"display_data"
    }
   ],
   "metadata":{
    "datalore":{
     "node_id":"knjF7hnbuBpXffG9AUYpUe",
     "type":"CODE",
     "hide_input_from_viewers":true,
     "hide_output_from_viewers":true
    }
   }
  },
  {
   "cell_type":"code",
   "source":[
    "#combing the two dataframes, to get the difference between returned and not returned\n",
    "df_surv=pd.merge(df,df_max_min, how='left', on='customer_id')\n",
    "df_surv=df_surv[['customer_id','created_date','canceled_date','subscription_cost',\n",
    "                 'subscription_interval','was_subscription_paid','days_passed_since_cancellation','subscription_status',\n",
    "                 'days_to_new_subscription']]\n",
    "df_surv['days_to_new_subscription']=df_surv['days_to_new_subscription'].fillna(0).astype(int)\n",
    "df_surv['return_status']=np.where(df_surv['days_to_new_subscription'] > 0,1,0)\n",
    "df_surv.head()"
   ],
   "execution_count":17,
   "outputs":[
    {
     "data":{
      "text\/html":[
       "<div>\n",
       "<style scoped>\n",
       "    .dataframe tbody tr th:only-of-type {\n",
       "        vertical-align: middle;\n",
       "    }\n",
       "\n",
       "    .dataframe tbody tr th {\n",
       "        vertical-align: top;\n",
       "    }\n",
       "\n",
       "    .dataframe thead th {\n",
       "        text-align: right;\n",
       "    }\n",
       "<\/style>\n",
       "<table border=\"1\" class=\"dataframe\">\n",
       "  <thead>\n",
       "    <tr style=\"text-align: right;\">\n",
       "      <th><\/th>\n",
       "      <th>customer_id<\/th>\n",
       "      <th>created_date<\/th>\n",
       "      <th>canceled_date<\/th>\n",
       "      <th>subscription_cost<\/th>\n",
       "      <th>subscription_interval<\/th>\n",
       "      <th>was_subscription_paid<\/th>\n",
       "      <th>days_passed_since_cancellation<\/th>\n",
       "      <th>subscription_status<\/th>\n",
       "      <th>days_to_new_subscription<\/th>\n",
       "      <th>return_status<\/th>\n",
       "    <\/tr>\n",
       "  <\/thead>\n",
       "  <tbody>\n",
       "    <tr>\n",
       "      <th>0<\/th>\n",
       "      <td>154536156<\/td>\n",
       "      <td>2022-09-01<\/td>\n",
       "      <td>2022-09-01<\/td>\n",
       "      <td>39<\/td>\n",
       "      <td>month<\/td>\n",
       "      <td>Yes<\/td>\n",
       "      <td>0<\/td>\n",
       "      <td>0<\/td>\n",
       "      <td>0<\/td>\n",
       "      <td>0<\/td>\n",
       "    <\/tr>\n",
       "    <tr>\n",
       "      <th>1<\/th>\n",
       "      <td>149713408<\/td>\n",
       "      <td>2022-09-01<\/td>\n",
       "      <td>2022-09-02<\/td>\n",
       "      <td>39<\/td>\n",
       "      <td>month<\/td>\n",
       "      <td>No<\/td>\n",
       "      <td>1<\/td>\n",
       "      <td>1<\/td>\n",
       "      <td>0<\/td>\n",
       "      <td>0<\/td>\n",
       "    <\/tr>\n",
       "    <tr>\n",
       "      <th>2<\/th>\n",
       "      <td>153756284<\/td>\n",
       "      <td>2022-09-01<\/td>\n",
       "      <td>2022-09-02<\/td>\n",
       "      <td>39<\/td>\n",
       "      <td>month<\/td>\n",
       "      <td>No<\/td>\n",
       "      <td>1<\/td>\n",
       "      <td>1<\/td>\n",
       "      <td>0<\/td>\n",
       "      <td>0<\/td>\n",
       "    <\/tr>\n",
       "    <tr>\n",
       "      <th>3<\/th>\n",
       "      <td>121253113<\/td>\n",
       "      <td>2022-09-01<\/td>\n",
       "      <td>2022-09-23<\/td>\n",
       "      <td>39<\/td>\n",
       "      <td>month<\/td>\n",
       "      <td>Yes<\/td>\n",
       "      <td>22<\/td>\n",
       "      <td>1<\/td>\n",
       "      <td>325<\/td>\n",
       "      <td>1<\/td>\n",
       "    <\/tr>\n",
       "    <tr>\n",
       "      <th>4<\/th>\n",
       "      <td>154467210<\/td>\n",
       "      <td>2022-09-01<\/td>\n",
       "      <td>2023-06-29<\/td>\n",
       "      <td>39<\/td>\n",
       "      <td>month<\/td>\n",
       "      <td>Yes<\/td>\n",
       "      <td>301<\/td>\n",
       "      <td>1<\/td>\n",
       "      <td>0<\/td>\n",
       "      <td>0<\/td>\n",
       "    <\/tr>\n",
       "  <\/tbody>\n",
       "<\/table>\n",
       "<\/div>"
      ]
     },
     "metadata":{
      
     },
     "output_type":"display_data"
    }
   ],
   "metadata":{
    "datalore":{
     "node_id":"0FKWcugVSopGu0JB2OA21J",
     "type":"CODE",
     "hide_input_from_viewers":true,
     "hide_output_from_viewers":true
    }
   }
  },
  {
   "cell_type":"markdown",
   "source":[
    "## Survival Analysis\n",
    "\n",
    "I will perform a survival analysis to determine the probability of resigning based on the days after cancellation. To do so, I will use the Kaplan Meier Estimator.\n",
    "### Kaplan Meier Estimator\n",
    "It allows us to estimate the probability of a particular event. I will use the columns \"days_to_new_subscription\" and \"return_status\" to accomplish that."
   ],
   "attachments":{
    
   },
   "metadata":{
    "datalore":{
     "node_id":"bK1K0BqtnFk97nKXcy8kA3",
     "type":"MD",
     "hide_input_from_viewers":true,
     "hide_output_from_viewers":true
    }
   }
  },
  {
   "cell_type":"code",
   "source":[
    "#setting up the model and displaying the output in a table\n",
    "from lifelines import KaplanMeierFitter\n",
    "model=KaplanMeierFitter()\n",
    "model.fit(durations=df_surv['days_to_new_subscription'],event_observed=df_surv['return_status'])\n",
    "model.event_table.head()"
   ],
   "execution_count":18,
   "outputs":[
    {
     "data":{
      "text\/html":[
       "<div>\n",
       "<style scoped>\n",
       "    .dataframe tbody tr th:only-of-type {\n",
       "        vertical-align: middle;\n",
       "    }\n",
       "\n",
       "    .dataframe tbody tr th {\n",
       "        vertical-align: top;\n",
       "    }\n",
       "\n",
       "    .dataframe thead th {\n",
       "        text-align: right;\n",
       "    }\n",
       "<\/style>\n",
       "<table border=\"1\" class=\"dataframe\">\n",
       "  <thead>\n",
       "    <tr style=\"text-align: right;\">\n",
       "      <th><\/th>\n",
       "      <th>removed<\/th>\n",
       "      <th>observed<\/th>\n",
       "      <th>censored<\/th>\n",
       "      <th>entrance<\/th>\n",
       "      <th>at_risk<\/th>\n",
       "    <\/tr>\n",
       "    <tr>\n",
       "      <th>event_at<\/th>\n",
       "      <th><\/th>\n",
       "      <th><\/th>\n",
       "      <th><\/th>\n",
       "      <th><\/th>\n",
       "      <th><\/th>\n",
       "    <\/tr>\n",
       "  <\/thead>\n",
       "  <tbody>\n",
       "    <tr>\n",
       "      <th>-1.0<\/th>\n",
       "      <td>2<\/td>\n",
       "      <td>0<\/td>\n",
       "      <td>2<\/td>\n",
       "      <td>3069<\/td>\n",
       "      <td>3069<\/td>\n",
       "    <\/tr>\n",
       "    <tr>\n",
       "      <th>0.0<\/th>\n",
       "      <td>2702<\/td>\n",
       "      <td>0<\/td>\n",
       "      <td>2702<\/td>\n",
       "      <td>0<\/td>\n",
       "      <td>3067<\/td>\n",
       "    <\/tr>\n",
       "    <tr>\n",
       "      <th>1.0<\/th>\n",
       "      <td>20<\/td>\n",
       "      <td>20<\/td>\n",
       "      <td>0<\/td>\n",
       "      <td>0<\/td>\n",
       "      <td>365<\/td>\n",
       "    <\/tr>\n",
       "    <tr>\n",
       "      <th>2.0<\/th>\n",
       "      <td>12<\/td>\n",
       "      <td>12<\/td>\n",
       "      <td>0<\/td>\n",
       "      <td>0<\/td>\n",
       "      <td>345<\/td>\n",
       "    <\/tr>\n",
       "    <tr>\n",
       "      <th>3.0<\/th>\n",
       "      <td>7<\/td>\n",
       "      <td>7<\/td>\n",
       "      <td>0<\/td>\n",
       "      <td>0<\/td>\n",
       "      <td>333<\/td>\n",
       "    <\/tr>\n",
       "  <\/tbody>\n",
       "<\/table>\n",
       "<\/div>"
      ]
     },
     "metadata":{
      
     },
     "output_type":"display_data"
    }
   ],
   "metadata":{
    "datalore":{
     "node_id":"SeBZ3BBu89YLu2TBLwRpEA",
     "type":"CODE",
     "hide_input_from_viewers":true,
     "hide_output_from_viewers":true
    }
   }
  },
  {
   "cell_type":"code",
   "source":[
    "#Visualizing the survival rate\n",
    "plt.figure(figsize=(8,6))\n",
    "model.plot()\n",
    "plt.ylabel('Survival')\n",
    "plt.xlabel('Days')"
   ],
   "execution_count":19,
   "outputs":[
    {
     "data":{
      "text\/plain":[
       "Text(0.5, 0, 'Days')"
      ]
     },
     "metadata":{
      
     },
     "output_type":"display_data"
    },
    {
     "data":{
      "image\/png":"[encoded data removed]"
     },
     "metadata":{
      "image\/png":{
       
      }
     },
     "output_type":"display_data"
    }
   ],
   "metadata":{
    "datalore":{
     "node_id":"qOkB5paPU9ZKc5UGcnNJ2s",
     "type":"CODE",
     "hide_input_from_viewers":true,
     "hide_output_from_viewers":true
    }
   }
  },
  {
   "cell_type":"markdown",
   "source":[
    "Here, we can see the graph for the survival analysis; in the next step, I will create a def-function which will allow us to get the probability of survival based on different daily inputs."
   ],
   "attachments":{
    
   },
   "metadata":{
    "datalore":{
     "node_id":"oqP9rzp06GqlXataGywQqJ",
     "type":"MD",
     "hide_input_from_viewers":true,
     "hide_output_from_viewers":true
    }
   }
  },
  {
   "cell_type":"code",
   "source":[
    "#all possible day-values, where we can get the probability for\n",
    "model.event_table.index.to_list()"
   ],
   "execution_count":20,
   "outputs":[
    {
     "data":{
      "text\/plain":[
       "[-1.0,\n",
       " 0.0,\n",
       " 1.0,\n",
       " 2.0,\n",
       " 3.0,\n",
       " 4.0,\n",
       " 5.0,\n",
       " 6.0,\n",
       " 7.0,\n",
       " 8.0,\n",
       " 9.0,\n",
       " 10.0,\n",
       " 12.0,\n",
       " 13.0,\n",
       " 14.0,\n",
       " 15.0,\n",
       " 16.0,\n",
       " 17.0,\n",
       " 18.0,\n",
       " 19.0,\n",
       " 20.0,\n",
       " 21.0,\n",
       " 22.0,\n",
       " 23.0,\n",
       " 24.0,\n",
       " 26.0,\n",
       " 27.0,\n",
       " 28.0,\n",
       " 29.0,\n",
       " 30.0,\n",
       " 31.0,\n",
       " 32.0,\n",
       " 33.0,\n",
       " 34.0,\n",
       " 35.0,\n",
       " 36.0,\n",
       " 37.0,\n",
       " 38.0,\n",
       " 39.0,\n",
       " 41.0,\n",
       " 43.0,\n",
       " 44.0,\n",
       " 45.0,\n",
       " 46.0,\n",
       " 47.0,\n",
       " 48.0,\n",
       " 51.0,\n",
       " 52.0,\n",
       " 54.0,\n",
       " 57.0,\n",
       " 61.0,\n",
       " 63.0,\n",
       " 68.0,\n",
       " 69.0,\n",
       " 71.0,\n",
       " 73.0,\n",
       " 80.0,\n",
       " 82.0,\n",
       " 84.0,\n",
       " 85.0,\n",
       " 89.0,\n",
       " 90.0,\n",
       " 92.0,\n",
       " 93.0,\n",
       " 94.0,\n",
       " 96.0,\n",
       " 99.0,\n",
       " 100.0,\n",
       " 101.0,\n",
       " 103.0,\n",
       " 105.0,\n",
       " 108.0,\n",
       " 109.0,\n",
       " 117.0,\n",
       " 119.0,\n",
       " 123.0,\n",
       " 125.0,\n",
       " 127.0,\n",
       " 128.0,\n",
       " 133.0,\n",
       " 134.0,\n",
       " 143.0,\n",
       " 145.0,\n",
       " 146.0,\n",
       " 153.0,\n",
       " 158.0,\n",
       " 159.0,\n",
       " 161.0,\n",
       " 162.0,\n",
       " 170.0,\n",
       " 175.0,\n",
       " 180.0,\n",
       " 187.0,\n",
       " 190.0,\n",
       " 208.0,\n",
       " 221.0,\n",
       " 226.0,\n",
       " 228.0,\n",
       " 236.0,\n",
       " 250.0,\n",
       " 255.0,\n",
       " 260.0,\n",
       " 265.0,\n",
       " 291.0,\n",
       " 313.0,\n",
       " 323.0,\n",
       " 325.0]"
      ]
     },
     "metadata":{
      
     },
     "output_type":"display_data"
    }
   ],
   "metadata":{
    "datalore":{
     "node_id":"H4U19jTqde69XFjN45ptZb",
     "type":"CODE",
     "hide_input_from_viewers":true,
     "hide_output_from_viewers":true
    }
   }
  },
  {
   "cell_type":"code",
   "source":[
    "#here I set up the draft for the def-function\n",
    "value_table=model.event_table.reset_index()\n",
    "output=value_table[value_table['event_at']==int(input('How many days have passed since cancellation?'))]\n",
    "surv_prob=round(1*(1-output['observed']\/output['at_risk']),4)\n",
    "print('Probability of returning after {} day after the cancellation: '.format(output.iloc[0,0]), \n",
    "      surv_prob.reset_index().rename(columns={0:''}).iloc[:,1])"
   ],
   "execution_count":21,
   "outputs":[
    {
     "name":"stdout",
     "text":[
      "How many days have passed since cancellation? 24\n",
      "Probability of returning after 24.0 day after the cancellation:  0    0.991\n",
      "Name: , dtype: float64\n"
     ],
     "output_type":"stream"
    }
   ],
   "metadata":{
    "datalore":{
     "node_id":"01XGcdqWFV8NXdVQJgoy81",
     "type":"CODE",
     "hide_input_from_viewers":true,
     "hide_output_from_viewers":true
    }
   }
  },
  {
   "cell_type":"code",
   "source":[
    "#the pickle file contains the model and can be implemented wherever we want it to\n",
    "import joblib\n",
    "\n",
    "joblib.dump(model,'Survival_Analysis_Subscription.pkl')"
   ],
   "execution_count":22,
   "outputs":[
    {
     "data":{
      "text\/plain":[
       "['Survival_Analysis_Subscription.pkl']"
      ]
     },
     "metadata":{
      
     },
     "output_type":"display_data"
    }
   ],
   "metadata":{
    "datalore":{
     "node_id":"wxNU2S3S76jfKECfkhlmaK",
     "type":"CODE",
     "hide_input_from_viewers":true,
     "hide_output_from_viewers":true
    }
   }
  },
  {
   "cell_type":"code",
   "source":[
    "#the def-funct to predict the propability of survival based on the \n",
    "def survival_probability(x):\n",
    "    value_table=model.event_table.reset_index()\n",
    "    output=value_table[value_table['event_at']==x]\n",
    "    surv_prob=round(1*(1-output['observed']\/output['at_risk']),4)\n",
    "    print('Probability of returning after {} day after the cancellation: '.format(output.iloc[0,0]), \n",
    "    surv_prob.reset_index().rename(columns={0:''}).iloc[:,1])"
   ],
   "execution_count":23,
   "outputs":[
    
   ],
   "metadata":{
    "datalore":{
     "node_id":"OjaB4cMUgSu6zk0V9yb7tV",
     "type":"CODE",
     "hide_input_from_viewers":true,
     "hide_output_from_viewers":true
    }
   }
  },
  {
   "cell_type":"code",
   "source":[
    "survival_probability(input('How many days have passed since cancellation?'))"
   ],
   "execution_count":24,
   "outputs":[
    {
     "name":"stdout",
     "text":[
      "Probability of returning after 24.0 day after the cancellation:  0    0.991\n",
      "Name: , dtype: float64\n"
     ],
     "output_type":"stream"
    }
   ],
   "metadata":{
    "datalore":{
     "node_id":"bmXomsiqQloNixOm1jgN8T",
     "type":"CODE",
     "hide_input_from_viewers":true,
     "hide_output_from_viewers":true
    }
   }
  },
  {
   "cell_type":"markdown",
   "source":[
    "## Conclusion\n",
    "\n",
    "Throughout the project, I created a model to predict the probability of customers returning who have already left."
   ],
   "attachments":{
    
   },
   "metadata":{
    "datalore":{
     "node_id":"b9gdWwjANrwNEVI4IUz0uL",
     "type":"MD",
     "hide_input_from_viewers":true,
     "hide_output_from_viewers":true
    }
   }
  }
 ],
 "metadata":{
  "kernelspec":{
   "display_name":"Python",
   "language":"python",
   "name":"python"
  },
  "datalore":{
   "computation_mode":"JUPYTER",
   "package_manager":"pip",
   "base_environment":"default",
   "packages":[
    {
     "name":"lifelines",
     "source":"PIP"
    }
   ],
   "report_row_ids":[
    
   ],
   "version":3
  }
 },
 "nbformat":4,
 "nbformat_minor":4
}